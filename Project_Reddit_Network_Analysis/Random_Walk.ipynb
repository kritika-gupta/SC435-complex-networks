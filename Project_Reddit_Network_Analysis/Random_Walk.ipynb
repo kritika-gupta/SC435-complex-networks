{
 "cells": [
  {
   "cell_type": "code",
   "execution_count": 1,
   "metadata": {},
   "outputs": [],
   "source": [
    "import numpy as np\n",
    "import networkx as nx\n",
    "import matplotlib.pyplot as plt\n",
    "import pandas as pd\n",
    "import json\n",
    "from tqdm import tqdm_notebook\n",
    "from operator import itemgetter\n",
    "import community\n"
   ]
  },
  {
   "cell_type": "code",
   "execution_count": 2,
   "metadata": {},
   "outputs": [],
   "source": [
    "data1 = pd.read_csv(\"soc-redditHyperlinks-body.tsv\", sep = '\\t').drop(columns = ['PROPERTIES', 'POST_ID', 'TIMESTAMP'])\n",
    "data2 = pd.read_csv(\"soc-redditHyperlinks-title.tsv\", sep = '\\t').drop(columns = ['PROPERTIES', 'POST_ID', 'TIMESTAMP'])"
   ]
  },
  {
   "cell_type": "code",
   "execution_count": 3,
   "metadata": {},
   "outputs": [
    {
     "name": "stdout",
     "output_type": "stream",
     "text": [
      "Number of subreddits : 67180\n",
      "Number of links : 858488\n"
     ]
    }
   ],
   "source": [
    "df = pd.DataFrame(columns=['source', 'target', 'weight'])\n",
    "df['source'] = data1.SOURCE_SUBREDDIT\n",
    "df['target'] = data1.TARGET_SUBREDDIT\n",
    "df['weight'] = data1.LINK_SENTIMENT\n",
    "df.head()\n",
    "df.to_csv('copy.csv', index=False)\n",
    "df = pd.concat([data1, data2])\n",
    "# get unique subreddits\n",
    "nodes = (set(df.SOURCE_SUBREDDIT.unique()) | set(df.TARGET_SUBREDDIT.unique()))\n",
    "print(\"Number of subreddits :\", len(nodes))\n",
    "# get links \n",
    "edges = list(zip(df.SOURCE_SUBREDDIT, df.TARGET_SUBREDDIT, df.LINK_SENTIMENT))\n",
    "print(\"Number of links :\", len(edges))\n",
    "G = nx.MultiDiGraph()\n",
    "G.add_nodes_from(nodes)\n",
    "G.add_weighted_edges_from(edges)"
   ]
  },
  {
   "cell_type": "code",
   "execution_count": 4,
   "metadata": {},
   "outputs": [
    {
     "name": "stdout",
     "output_type": "stream",
     "text": [
      "Strongly connected components :  45564\n",
      "Weakly connected components :  712\n"
     ]
    }
   ],
   "source": [
    "print(\"Strongly connected components : \",len(list(nx.strongly_connected_components(G))))\n",
    "print(\"Weakly connected components : \",len(list(nx.weakly_connected_components(G))))"
   ]
  },
  {
   "cell_type": "code",
   "execution_count": 191,
   "metadata": {},
   "outputs": [
    {
     "data": {
      "text/plain": [
       "[65648, 9, 8, 7, 7]"
      ]
     },
     "execution_count": 191,
     "metadata": {},
     "output_type": "execute_result"
    }
   ],
   "source": [
    "[len(c) for c in sorted(nx.weakly_connected_components(G),\n",
    "...                         key=len, reverse=True)][0:5]"
   ]
  },
  {
   "cell_type": "code",
   "execution_count": 6,
   "metadata": {},
   "outputs": [],
   "source": [
    "G1 = G.subgraph(sorted(nx.weakly_connected_components(G), key=len, reverse=True)[0])"
   ]
  },
  {
   "cell_type": "code",
   "execution_count": 14,
   "metadata": {},
   "outputs": [
    {
     "name": "stdout",
     "output_type": "stream",
     "text": [
      "Strongly connected components :  44064\n",
      "Weakly connected components :  1\n"
     ]
    }
   ],
   "source": [
    "print(\"Strongly connected components : \",len(list(nx.strongly_connected_components(G1))))\n",
    "print(\"Weakly connected components : \",len(list(nx.weakly_connected_components(G1))))"
   ]
  },
  {
   "cell_type": "code",
   "execution_count": 60,
   "metadata": {},
   "outputs": [],
   "source": [
    "node_list = list(G1.nodes())\n"
   ]
  },
  {
   "cell_type": "code",
   "execution_count": 91,
   "metadata": {},
   "outputs": [],
   "source": [
    "node_pos_max = {}\n",
    "node_neg_max = {}\n",
    "\n",
    "for node in node_list:\n",
    "    nbr_pos_weight = {}\n",
    "    nbr_neg_weight = {}\n",
    "    for x in list(G.out_edges(node)):\n",
    "        nbr_pos = 0\n",
    "        nbr_neg = 0\n",
    "        for edge in list((G.get_edge_data(x[0], x[1])).values()):\n",
    "            if(edge['weight']>0):\n",
    "                nbr_pos += edge['weight']\n",
    "            if(edge['weight']<0):\n",
    "                nbr_neg += edge['weight']\n",
    "        nbr_pos_weight.update({x[1]: nbr_pos})\n",
    "        nbr_neg_weight.update({x[1]: nbr_neg})\n",
    "        \n",
    "    if(len(nbr_pos_weight)==0):\n",
    "        node_pos_max.update({node: None})\n",
    "    else:\n",
    "        n = max(nbr_pos_weight.items(), key=itemgetter(1))[0]\n",
    "        node_pos_max.update({node: n})\n",
    "    \n",
    "    if(len(nbr_neg_weight)==0):\n",
    "        node_neg_max.update({node: None})\n",
    "    else:\n",
    "        n = max(nbr_neg_weight.items(), key=itemgetter(1))[0]\n",
    "        node_neg_max.update({node: n})\n"
   ]
  },
  {
   "cell_type": "code",
   "execution_count": 260,
   "metadata": {
    "scrolled": false
   },
   "outputs": [
    {
     "data": {
      "application/vnd.jupyter.widget-view+json": {
       "model_id": "8f4e5797639d4aea984eaeb95e7309b7",
       "version_major": 2,
       "version_minor": 0
      },
      "text/plain": [
       "HBox(children=(IntProgress(value=0, max=10), HTML(value='')))"
      ]
     },
     "metadata": {},
     "output_type": "display_data"
    },
    {
     "data": {
      "application/vnd.jupyter.widget-view+json": {
       "model_id": "522ba79ac5264671a2ac5e4e02d2cb7b",
       "version_major": 2,
       "version_minor": 0
      },
      "text/plain": [
       "HBox(children=(IntProgress(value=0, max=1000), HTML(value='')))"
      ]
     },
     "metadata": {},
     "output_type": "display_data"
    },
    {
     "name": "stderr",
     "output_type": "stream",
     "text": [
      "/usr/local/lib/python3.5/dist-packages/numpy/core/fromnumeric.py:3118: RuntimeWarning: Mean of empty slice.\n",
      "  out=out, **kwargs)\n",
      "/usr/local/lib/python3.5/dist-packages/numpy/core/_methods.py:85: RuntimeWarning: invalid value encountered in double_scalars\n",
      "  ret = ret.dtype.type(ret / rcount)\n"
     ]
    },
    {
     "data": {
      "application/vnd.jupyter.widget-view+json": {
       "model_id": "c530d455231244518e61f00871ae3811",
       "version_major": 2,
       "version_minor": 0
      },
      "text/plain": [
       "HBox(children=(IntProgress(value=0, max=1000), HTML(value='')))"
      ]
     },
     "metadata": {},
     "output_type": "display_data"
    },
    {
     "data": {
      "application/vnd.jupyter.widget-view+json": {
       "model_id": "d3093de7bfd24a87ba22b3ea0b6105f1",
       "version_major": 2,
       "version_minor": 0
      },
      "text/plain": [
       "HBox(children=(IntProgress(value=0, max=1000), HTML(value='')))"
      ]
     },
     "metadata": {},
     "output_type": "display_data"
    },
    {
     "data": {
      "application/vnd.jupyter.widget-view+json": {
       "model_id": "71a2541fcb5b4c35a897ab38875f9028",
       "version_major": 2,
       "version_minor": 0
      },
      "text/plain": [
       "HBox(children=(IntProgress(value=0, max=1000), HTML(value='')))"
      ]
     },
     "metadata": {},
     "output_type": "display_data"
    },
    {
     "data": {
      "application/vnd.jupyter.widget-view+json": {
       "model_id": "6cdcc5a44bf64e6ea2ebbfa104e2f3c0",
       "version_major": 2,
       "version_minor": 0
      },
      "text/plain": [
       "HBox(children=(IntProgress(value=0, max=1000), HTML(value='')))"
      ]
     },
     "metadata": {},
     "output_type": "display_data"
    },
    {
     "data": {
      "application/vnd.jupyter.widget-view+json": {
       "model_id": "f307f2e64cf74948ab9fcb91d4724e24",
       "version_major": 2,
       "version_minor": 0
      },
      "text/plain": [
       "HBox(children=(IntProgress(value=0, max=1000), HTML(value='')))"
      ]
     },
     "metadata": {},
     "output_type": "display_data"
    },
    {
     "data": {
      "application/vnd.jupyter.widget-view+json": {
       "model_id": "cbf9842c7c2b4ec6bec547ccf9e4bb9b",
       "version_major": 2,
       "version_minor": 0
      },
      "text/plain": [
       "HBox(children=(IntProgress(value=0, max=1000), HTML(value='')))"
      ]
     },
     "metadata": {},
     "output_type": "display_data"
    },
    {
     "data": {
      "application/vnd.jupyter.widget-view+json": {
       "model_id": "a995d7110c454a12b5812a9072c91edc",
       "version_major": 2,
       "version_minor": 0
      },
      "text/plain": [
       "HBox(children=(IntProgress(value=0, max=1000), HTML(value='')))"
      ]
     },
     "metadata": {},
     "output_type": "display_data"
    },
    {
     "data": {
      "application/vnd.jupyter.widget-view+json": {
       "model_id": "e6d5327d69d94c7a84695a98da907525",
       "version_major": 2,
       "version_minor": 0
      },
      "text/plain": [
       "HBox(children=(IntProgress(value=0, max=1000), HTML(value='')))"
      ]
     },
     "metadata": {},
     "output_type": "display_data"
    },
    {
     "data": {
      "application/vnd.jupyter.widget-view+json": {
       "model_id": "ff3e2dfbdaf34a35b47bbd452567a234",
       "version_major": 2,
       "version_minor": 0
      },
      "text/plain": [
       "HBox(children=(IntProgress(value=0, max=1000), HTML(value='')))"
      ]
     },
     "metadata": {},
     "output_type": "display_data"
    }
   ],
   "source": [
    "# output = dict.fromkeys(np.arange(1000, 1100, 100))\n",
    "# for num_sims in tqdm_notebook(sorted(list(output.keys()))):\n",
    "#     print(num_sims)\n",
    "num_sims = 1000\n",
    "score = dict.fromkeys(node_list)\n",
    "time_for = dict.fromkeys(node_list)\n",
    "\n",
    "for node in node_list:\n",
    "    score[node] = 0\n",
    "    time_for[node] = []\n",
    "    askreddit = []\n",
    "output = dict.fromkeys(range(10, 110, 10))\n",
    "for tmax in tqdm_notebook(list(output.keys())):\n",
    "    for sims in tqdm_notebook(range(num_sims)):\n",
    "        start = np.random.choice(node_list)\n",
    "        time = 0\n",
    "\n",
    "        for iter in (range(tmax)):\n",
    "\n",
    "            time = time + 1\n",
    "            if(len(G1.out_edges(start))==0):\n",
    "                start = np.random.choice(node_list)\n",
    "                continue\n",
    "            next_node = np.random.choice([x[1] for x in (G1.out_edges(start))])\n",
    "            next_Edge = np.random.choice(list((G.get_edge_data(start, next_node)).values()))['weight']\n",
    "            if(next_Edge < 0):\n",
    "                score[next_node] -= 1\n",
    "                time_for[next_node].append(time)\n",
    "                break\n",
    "            start = next_node \n",
    "        askreddit.append(score['askreddit'])\n",
    "\n",
    "    #     print(min(score.items(), key=itemgetter(1)))\n",
    "    output[tmax] = [(x[0], x[1], np.mean(time_for[x[0]])) for x in (sorted(score.items(), key = itemgetter(1)))]\n",
    "    #     print(output[num_sims][0:5])\n",
    "#     steps[sims] = time"
   ]
  },
  {
   "cell_type": "code",
   "execution_count": 261,
   "metadata": {},
   "outputs": [
    {
     "name": "stdout",
     "output_type": "stream",
     "text": [
      "dict_keys([80, 50, 20, 70, 40, 100, 10, 60, 90, 30])\n",
      "80 494\n",
      "50 767\n",
      "20 920\n",
      "70 1128\n",
      "40 1279\n",
      "100 1452\n",
      "10 1513\n",
      "60 1653\n",
      "90 1783\n",
      "30 1872\n"
     ]
    }
   ],
   "source": [
    "print(output.keys())\n",
    "for val in output:\n",
    "    if(output[val] is None):\n",
    "        print(val)\n",
    "        continue\n",
    "    print(val, len([x for x in output[val] if x[1]<0]))"
   ]
  },
  {
   "cell_type": "code",
   "execution_count": 262,
   "metadata": {},
   "outputs": [],
   "source": [
    "out = output[100]\n",
    "counts=[]\n",
    "times=[]\n",
    "for t in range(int(tmax)):\n",
    "    times.append(t)\n",
    "    counts.append(len([x[1] for x in out if x[2]<t]))"
   ]
  },
  {
   "cell_type": "code",
   "execution_count": 268,
   "metadata": {},
   "outputs": [
    {
     "name": "stdout",
     "output_type": "stream",
     "text": [
      "askreddit & -282 & 19.0 \\\\\n",
      "\\hline\n",
      "pics & -129 & 18.0 \\\\\n",
      "\\hline\n",
      "worldnews & -120 & 18.0 \\\\\n",
      "\\hline\n",
      "funny & -117 & 17.0 \\\\\n",
      "\\hline\n",
      "videos & -113 & 19.0 \\\\\n",
      "\\hline\n",
      "todayilearned & -102 & 17.0 \\\\\n",
      "\\hline\n",
      "adviceanimals & -84 & 19.0 \\\\\n",
      "\\hline\n",
      "wtf & -82 & 18.0 \\\\\n",
      "\\hline\n",
      "news & -72 & 22.0 \\\\\n",
      "\\hline\n",
      "iama & -71 & 17.0 \\\\\n",
      "\\hline\n"
     ]
    }
   ],
   "source": [
    "for x in (out[0:10]):\n",
    "    print(x[0], \"&\", x[1], \"&\", np.round(x[2]), \"\\\\\\\\\")\n",
    "    print(\"\\hline\")"
   ]
  },
  {
   "cell_type": "code",
   "execution_count": 263,
   "metadata": {},
   "outputs": [
    {
     "data": {
      "text/plain": [
       "[<matplotlib.lines.Line2D at 0x7f5494f99be0>]"
      ]
     },
     "execution_count": 263,
     "metadata": {},
     "output_type": "execute_result"
    },
    {
     "data": {
      "image/png": "[encoded data removed]",
      "text/plain": [
       "<Figure size 432x288 with 1 Axes>"
      ]
     },
     "metadata": {
      "needs_background": "light"
     },
     "output_type": "display_data"
    }
   ],
   "source": [
    "plt.plot(times, np.array(counts)/len(node_list))"
   ]
  }
 ],
 "metadata": {
  "kernelspec": {
   "display_name": "Python 3",
   "language": "python",
   "name": "python3"
  },
  "language_info": {
   "codemirror_mode": {
    "name": "ipython",
    "version": 3
   },
   "file_extension": ".py",
   "mimetype": "text/x-python",
   "name": "python",
   "nbconvert_exporter": "python",
   "pygments_lexer": "ipython3",
   "version": "3.5.2"
  }
 },
 "nbformat": 4,
 "nbformat_minor": 2
}
